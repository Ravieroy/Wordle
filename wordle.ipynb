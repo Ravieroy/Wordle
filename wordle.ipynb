{
 "cells": [
  {
   "cell_type": "code",
   "execution_count": 51,
   "id": "d22c62eb",
   "metadata": {},
   "outputs": [],
   "source": [
    "import string\n",
    "from collections import Counter\n",
    "import time"
   ]
  },
  {
   "cell_type": "markdown",
   "id": "036e5884",
   "metadata": {},
   "source": [
    "### So we start with a word list for most common english words. We can start with an inbuilt dictionary or some different word list as well."
   ]
  },
  {
   "cell_type": "code",
   "execution_count": 38,
   "id": "4c500bc6",
   "metadata": {},
   "outputs": [],
   "source": [
    "#List of most common 5 letter words\n",
    "word_list = open(\"words.txt\").read().split()"
   ]
  },
  {
   "cell_type": "code",
   "execution_count": 39,
   "id": "71acf6f7",
   "metadata": {},
   "outputs": [],
   "source": [
    "word_length = 5 # length of words\n",
    "allowed_attempts = 6 # number of allowed attempts\n",
    "counts = Counter(letter for word in word_list for letter in word)"
   ]
  },
  {
   "cell_type": "code",
   "execution_count": 40,
   "id": "d017ab9f",
   "metadata": {},
   "outputs": [],
   "source": [
    "def get_weight(word_):\n",
    "    \"\"\"\n",
    "    word_ : Takes the input word and gives it weight.\n",
    "    Higher the number, more weight(not necessarily more common) it has.\n",
    "    \"\"\"\n",
    "    weight = 0\n",
    "    unique_word = \"\".join(set(word_))\n",
    "    for char in unique_word:\n",
    "        weight += counts[char]\n",
    "        total = sum(counts.values())\n",
    "    return weight/total"
   ]
  },
  {
   "cell_type": "code",
   "execution_count": 41,
   "id": "caf10a17",
   "metadata": {},
   "outputs": [],
   "source": [
    "def sorted_word_list(list_):\n",
    "    \"\"\"\n",
    "    list_ : Takes the input word list\n",
    "    Sorts the words in the list_ in descending order(lowest to highest)\n",
    "    \"\"\"\n",
    "    sorted_list=[]\n",
    "    for item in list_:\n",
    "        weight = get_weight(item)\n",
    "        tmp_list = [item,weight]\n",
    "        sorted_list.append(tmp_list)\n",
    "    return sorted(sorted_list, key=lambda x:x[1],reverse=False)"
   ]
  },
  {
   "cell_type": "code",
   "execution_count": 42,
   "id": "15aa03b2",
   "metadata": {},
   "outputs": [],
   "source": [
    "def display_common_words(list_):\n",
    "    \"\"\"\n",
    "    Displays most common words after each guesses.\n",
    "    \"\"\"\n",
    "    \n",
    "    sorted_list = sorted_word_list(list_)\n",
    "    first_n_list = sorted_list\n",
    "    for i in range(len(sorted_list)):\n",
    "        word = first_n_list[i][0]\n",
    "        weight = first_n_list[i][1]\n",
    "        print(f\"{word} : {weight:.3f}\")"
   ]
  },
  {
   "cell_type": "code",
   "execution_count": 43,
   "id": "933b7804",
   "metadata": {},
   "outputs": [],
   "source": [
    "#Take input for first word\n",
    "def input_word():\n",
    "    \"\"\"\n",
    "    Takes the input from the user\n",
    "    \"\"\"\n",
    "    while True:\n",
    "        word = input(\"Enter Your Guess: \")\n",
    "        if len(word) == word_length and word.lower() in word_list:\n",
    "            break\n",
    "    return word.lower()"
   ]
  },
  {
   "cell_type": "code",
   "execution_count": 44,
   "id": "26b1628d",
   "metadata": {},
   "outputs": [],
   "source": [
    "def input_response():\n",
    "    \"\"\"\n",
    "    Collects the response from the wordle.\n",
    "    \n",
    "    G: Green(Correct character at correct position)\n",
    "    Y: Yellow(Correct character at wrong position)\n",
    "    ?: Black (wrong character)\n",
    "    \n",
    "    \"\"\"\n",
    "    \n",
    "    print(f\"Type the color-coded response from Wordle for the last word (G,Y,?): \")\n",
    "    while True:\n",
    "        response = input(\"Response from Wordle: \")\n",
    "        if len(response) == word_length and set(response) <= {\"G\", \"Y\", \"?\"}:\n",
    "            break\n",
    "        else:\n",
    "            print(f\"Error - invalid answer {response}\")\n",
    "    return response"
   ]
  },
  {
   "cell_type": "code",
   "execution_count": 45,
   "id": "fc458f4b",
   "metadata": {},
   "outputs": [],
   "source": [
    "def match_word(word, word_):\n",
    "    \"\"\"\n",
    "    word: The word to be matched\n",
    "    word_: The set of alphabets \n",
    "    \n",
    "    This matches the characters of the word to the set of alphabets.\n",
    "    \"\"\"\n",
    "    for word_char, alphabet in zip(word, word_):\n",
    "        if word_char not in alphabet:\n",
    "            return False\n",
    "    return True"
   ]
  },
  {
   "cell_type": "code",
   "execution_count": 46,
   "id": "4aa81ab5",
   "metadata": {},
   "outputs": [],
   "source": [
    "def match(word_vector, possible_words):\n",
    "    \"\"\"\n",
    "    This function filters the new words from the word_list\n",
    "    after response from wordle is given.\n",
    "    \"\"\"\n",
    "    return [word for word in possible_words if match_word(word, word_vector)]"
   ]
  },
  {
   "cell_type": "code",
   "execution_count": 53,
   "id": "5870e376",
   "metadata": {},
   "outputs": [],
   "source": [
    "def solve_wordle():\n",
    "    \n",
    "    \"\"\"\n",
    "    Solves the wordle interactively\n",
    "    \"\"\"\n",
    "    \n",
    "    possible_words = word_list.copy()\n",
    "    alphabets_list = [set(string.ascii_lowercase) for _ in range(word_length)]\n",
    "    for attempt in range(1, allowed_attempts + 1):\n",
    "        print(f\"Attempt {attempt} with {len(possible_words)} possible words: \")\n",
    "        display_common_words(possible_words) #displays the words\n",
    "        time.sleep(5)\n",
    "        word = input_word() #takes input from user\n",
    "        response = input_response() #takes response\n",
    "        for index, letter in enumerate(response):\n",
    "            if letter == \"G\": #Fix the position to have that character\n",
    "                alphabets_list[index] = {word[index]}\n",
    "            elif letter == \"Y\":#Remove the char from that index(position)\n",
    "                try:\n",
    "                    alphabets_list[index].remove(word[index])\n",
    "                except KeyError:\n",
    "                        pass\n",
    "            elif letter == \"?\": #Remove the char\n",
    "                for vector in alphabets_list:\n",
    "                    try:\n",
    "                        vector.remove(word[index])\n",
    "                    except KeyError:\n",
    "                        pass\n",
    "        possible_words = match(alphabets_list, possible_words)"
   ]
  }
 ],
 "metadata": {
  "kernelspec": {
   "display_name": "Python 3",
   "language": "python",
   "name": "python3"
  },
  "language_info": {
   "codemirror_mode": {
    "name": "ipython",
    "version": 3
   },
   "file_extension": ".py",
   "mimetype": "text/x-python",
   "name": "python",
   "nbconvert_exporter": "python",
   "pygments_lexer": "ipython3",
   "version": "3.8.10"
  }
 },
 "nbformat": 4,
 "nbformat_minor": 5
}
