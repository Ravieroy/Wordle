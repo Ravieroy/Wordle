{
 "cells": [
  {
   "cell_type": "code",
   "execution_count": 25,
   "id": "d22c62eb",
   "metadata": {},
   "outputs": [],
   "source": [
    "import string\n",
    "from collections import Counter\n",
    "import time"
   ]
  },
  {
   "cell_type": "markdown",
   "id": "036e5884",
   "metadata": {},
   "source": [
    "### So we start with a word list for most common english words. We can start with an inbuilt dictionary or some different word list as well."
   ]
  },
  {
   "cell_type": "code",
   "execution_count": 26,
   "id": "4c500bc6",
   "metadata": {},
   "outputs": [],
   "source": [
    "#List of most common 5 letter words\n",
    "word_list = open(\"words.txt\").read().split()"
   ]
  },
  {
   "cell_type": "markdown",
   "id": "b81ce032",
   "metadata": {},
   "source": [
    "### First we assign the limit to the length of the word and allowed attempts. The ***counts*** variable finds the number of occurences of a character in the entire word_list"
   ]
  },
  {
   "cell_type": "code",
   "execution_count": 42,
   "id": "71acf6f7",
   "metadata": {},
   "outputs": [
    {
     "data": {
      "text/plain": [
       "Counter({'w': 505,\n",
       "         'h': 814,\n",
       "         'i': 1592,\n",
       "         'c': 964,\n",
       "         't': 1585,\n",
       "         'e': 3009,\n",
       "         'r': 1910,\n",
       "         'a': 2348,\n",
       "         'b': 715,\n",
       "         'o': 1915,\n",
       "         'u': 1089,\n",
       "         'l': 1586,\n",
       "         'd': 1181,\n",
       "         's': 3033,\n",
       "         'f': 561,\n",
       "         'g': 679,\n",
       "         'n': 1285,\n",
       "         'k': 596,\n",
       "         'y': 886,\n",
       "         'p': 955,\n",
       "         'v': 318,\n",
       "         'm': 843,\n",
       "         'q': 53,\n",
       "         'j': 89,\n",
       "         'x': 139,\n",
       "         'z': 135})"
      ]
     },
     "execution_count": 42,
     "metadata": {},
     "output_type": "execute_result"
    }
   ],
   "source": [
    "word_length = 5 # length of words\n",
    "allowed_attempts = 6 # number of allowed attempts\n",
    "counts = Counter(letter for word in word_list for letter in word)\n",
    "counts"
   ]
  },
  {
   "cell_type": "markdown",
   "id": "a8e3d900",
   "metadata": {},
   "source": [
    "### get_weight() gives weight to every word. Since in English alphabet some characters occur more frequently than others, some words are more common than others. Like \"sugar\" is more common according to this rule than say \"yawn\".\n",
    "\n",
    "### We only need to add contributions from unique characters so that \"asses\" has less weight than more common words like \"arose\".  Also since we tend to understand things better if it is between 0 and 1, we simply make a division by total number to get a value.\n",
    "\n",
    "### Remember, this is not the best way to get most common words but it works fine. "
   ]
  },
  {
   "cell_type": "code",
   "execution_count": 28,
   "id": "d017ab9f",
   "metadata": {},
   "outputs": [],
   "source": [
    "def get_weight(word_):\n",
    "    \"\"\"\n",
    "    word_ : Takes the input word and gives it weight.\n",
    "    Higher the number, more weight(not necessarily more common) it has.\n",
    "    \"\"\"\n",
    "    weight = 0\n",
    "    unique_word = \"\".join(set(word_))\n",
    "    for char in unique_word:\n",
    "        weight += counts[char]\n",
    "        total = sum(counts.values())\n",
    "    return weight/total"
   ]
  },
  {
   "cell_type": "code",
   "execution_count": 47,
   "id": "05c15b4c",
   "metadata": {},
   "outputs": [
    {
     "name": "stdout",
     "output_type": "stream",
     "text": [
      "0.31471252388396737\n",
      "0.17453534827166928\n",
      "0.2914712523883967\n",
      "0.4243529616119507\n"
     ]
    }
   ],
   "source": [
    "print(get_weight(\"sugar\"))\n",
    "print(get_weight(\"yawn\"))\n",
    "print(get_weight(\"asses\"))\n",
    "print(get_weight(\"arose\"))"
   ]
  },
  {
   "cell_type": "markdown",
   "id": "d0655374",
   "metadata": {},
   "source": [
    "### sorted_word_list() simply sorts the list of words based on it weight in ascending or desending order(depending on reverse = True/False."
   ]
  },
  {
   "cell_type": "code",
   "execution_count": 29,
   "id": "caf10a17",
   "metadata": {},
   "outputs": [],
   "source": [
    "def sorted_word_list(list_):\n",
    "    \"\"\"\n",
    "    list_ : Takes the input word list\n",
    "    Sorts the words in the list_ in descending order(lowest to highest)\n",
    "    \"\"\"\n",
    "    sorted_list=[]\n",
    "    for item in list_:\n",
    "        weight = get_weight(item)\n",
    "        tmp_list = [item,weight]\n",
    "        sorted_list.append(tmp_list)\n",
    "    return sorted(sorted_list, key=lambda x:x[1],reverse=True)"
   ]
  },
  {
   "cell_type": "code",
   "execution_count": 48,
   "id": "c9ab16bd",
   "metadata": {},
   "outputs": [
    {
     "data": {
      "text/plain": [
       "[['arose', 0.4243529616119507],\n",
       " ['sugar', 0.31471252388396737],\n",
       " ['ultra', 0.29591801285391695],\n",
       " ['asses', 0.2914712523883967]]"
      ]
     },
     "execution_count": 48,
     "metadata": {},
     "output_type": "execute_result"
    }
   ],
   "source": [
    "tmp_list = [\"ultra\", \"sugar\",\"asses\",\"arose\"]\n",
    "sorted_word_list(tmp_list)"
   ]
  },
  {
   "cell_type": "markdown",
   "id": "707d35aa",
   "metadata": {},
   "source": [
    "### display_common_words() displays the top words based on their weight."
   ]
  },
  {
   "cell_type": "code",
   "execution_count": 30,
   "id": "15aa03b2",
   "metadata": {},
   "outputs": [],
   "source": [
    "def display_common_words(list_,n_words = 15):\n",
    "    \"\"\"\n",
    "    Displays most common words after each guesses.\n",
    "    \"\"\"\n",
    "    \n",
    "    sorted_list = sorted_word_list(list_)\n",
    "    first_n_list = sorted_list[:n_words] #displays top 15 entries for the word\n",
    "    for i in range(len(first_n_list)):\n",
    "        word = first_n_list[i][0]\n",
    "        weight = first_n_list[i][1]\n",
    "        print(f\"{word} : {weight:.3f}\")"
   ]
  },
  {
   "cell_type": "code",
   "execution_count": 49,
   "id": "c07957c8",
   "metadata": {},
   "outputs": [
    {
     "name": "stdout",
     "output_type": "stream",
     "text": [
      "arose : 0.424\n",
      "sugar : 0.315\n",
      "ultra : 0.296\n"
     ]
    }
   ],
   "source": [
    "display_common_words(tmp_list, 3)"
   ]
  },
  {
   "cell_type": "code",
   "execution_count": 31,
   "id": "933b7804",
   "metadata": {},
   "outputs": [],
   "source": [
    "#Take input for first word\n",
    "def input_word():\n",
    "    \"\"\"\n",
    "    Takes the input from the user\n",
    "    \"\"\"\n",
    "    while True:\n",
    "        word = input(\"Enter Your Guess: \")\n",
    "        if len(word) == word_length and word.lower() in word_list:\n",
    "            break\n",
    "    return word.lower()"
   ]
  },
  {
   "cell_type": "code",
   "execution_count": 50,
   "id": "8f1c676f",
   "metadata": {},
   "outputs": [
    {
     "name": "stdout",
     "output_type": "stream",
     "text": [
      "Enter Your Guess: arose\n"
     ]
    },
    {
     "data": {
      "text/plain": [
       "'arose'"
      ]
     },
     "execution_count": 50,
     "metadata": {},
     "output_type": "execute_result"
    }
   ],
   "source": [
    "input_word()"
   ]
  },
  {
   "cell_type": "markdown",
   "id": "e66c2c97",
   "metadata": {},
   "source": [
    "### Now we need to take response from the output of wordle to make the new guess. So once the word is entered, wordle gives three color-coded response. Green means that the character entered is present in the word and is at correct position, Yellow means while the character is present, it is in wrong position and finally black means the character is not in the word. \n",
    "\n",
    "### So we take the input from user G: Green, Y: Yellow and ?: Grey."
   ]
  },
  {
   "cell_type": "code",
   "execution_count": 51,
   "id": "26b1628d",
   "metadata": {},
   "outputs": [],
   "source": [
    "def input_response():\n",
    "    \"\"\"\n",
    "    Collects the response from the wordle.\n",
    "    \n",
    "    G: Green(Correct character at correct position)\n",
    "    Y: Yellow(Correct character at wrong position)\n",
    "    ?: Black (wrong character)\n",
    "    \n",
    "    \"\"\"\n",
    "    \n",
    "    print(f\"Type the color-coded response from Wordle for the last word (G,Y,?): \")\n",
    "    while True:\n",
    "        response = input(\"Response from Wordle: \")\n",
    "        if len(response) == word_length and set(response) <= {\"G\", \"Y\", \"?\"}:\n",
    "            break\n",
    "        else:\n",
    "            print(f\"Invalid response: {response}\")\n",
    "    return response"
   ]
  },
  {
   "cell_type": "code",
   "execution_count": 53,
   "id": "f917d366",
   "metadata": {},
   "outputs": [
    {
     "name": "stdout",
     "output_type": "stream",
     "text": [
      "Type the color-coded response from Wordle for the last word (G,Y,?): \n",
      "Response from Wordle: G?Y?G\n"
     ]
    },
    {
     "data": {
      "text/plain": [
       "'G?Y?G'"
      ]
     },
     "execution_count": 53,
     "metadata": {},
     "output_type": "execute_result"
    }
   ],
   "source": [
    "input_response()"
   ]
  },
  {
   "cell_type": "markdown",
   "id": "5c4197ce",
   "metadata": {},
   "source": [
    "### So now we have everything set up. Now we need to find a way to make a pair-wise search of each character to all the alphabets and remove/add the alphabets depending on the response. Say, we found that the first position has green for letter \"a\" then we do not need to look for words which has anything other than \"a\" in the first place. Similarly we do not care about letters which do not exist. For yellow, we simply remove the word to occured at that position. \n",
    "\n",
    "### We need to match the characters of the words to some sort of list of all alphabets and change the list accordingly. \n",
    "\n",
    " `\n",
    "alphabets_list = [set(string.ascii_lowercase) for _ in range(word_length)] \n",
    " `\n",
    "### creates a list of set of alphabets. i.e we have a set of alphabets from a to z in a list. We have 5 of them, one for each position. "
   ]
  },
  {
   "cell_type": "code",
   "execution_count": 33,
   "id": "fc458f4b",
   "metadata": {},
   "outputs": [],
   "source": [
    "def match_word(word, word_):\n",
    "    \"\"\"\n",
    "    word: The word to be matched\n",
    "    word_: The set of alphabets \n",
    "    \n",
    "    This matches the characters of the word to the set of alphabets.\n",
    "    \"\"\"\n",
    "    for word_char, alphabet in zip(word, word_):\n",
    "        if word_char not in alphabet:\n",
    "            return False\n",
    "    return True"
   ]
  },
  {
   "cell_type": "markdown",
   "id": "b2877d94",
   "metadata": {},
   "source": [
    "### We need to filter the new list of words after response from wordle. match() returns word from the list of possible words after each guess which passes the test of being in the alphabet list. The alphabet list is updated in each turn so list of words matching also changes"
   ]
  },
  {
   "cell_type": "code",
   "execution_count": 34,
   "id": "4aa81ab5",
   "metadata": {},
   "outputs": [],
   "source": [
    "def match(alphabets_list, possible_words):\n",
    "    \"\"\"\n",
    "    This function filters the new words from the word_list\n",
    "    after response from wordle is given.\n",
    "    \"\"\"\n",
    "    return [word for word in possible_words if match_word(word, alphabets_list)]"
   ]
  },
  {
   "cell_type": "markdown",
   "id": "4eebbe02",
   "metadata": {},
   "source": [
    "### Finally we collect all of the above to do things iteratively.  we start with an exact copy of word_list which currently has all the possible words. we let things run for 6 times as you only get 6 attempts. Along the way we display top 15 words and check for response and finally update our possible words list for next iteration. "
   ]
  },
  {
   "cell_type": "code",
   "execution_count": 35,
   "id": "5870e376",
   "metadata": {},
   "outputs": [],
   "source": [
    "def solve_wordle():\n",
    "    \n",
    "    \"\"\"\n",
    "    Solves the wordle interactively\n",
    "    \"\"\"\n",
    "    \n",
    "    possible_words = word_list.copy()\n",
    "    alphabets_list = [set(string.ascii_lowercase) for _ in range(word_length)]\n",
    "    for attempt in range(1, allowed_attempts + 1):\n",
    "        print(f\"Attempt {attempt} with {len(possible_words)} possible words: \")\n",
    "        display_common_words(possible_words) #displays the words\n",
    "        word = input_word() #takes input from user\n",
    "        response = input_response() #takes response\n",
    "        for index, letter in enumerate(response):\n",
    "            if letter == \"G\": #Fix the position to have that character\n",
    "                alphabets_list[index] = {word[index]}\n",
    "            elif letter == \"Y\":#Remove the char from that index(position)\n",
    "                try:\n",
    "                    alphabets_list[index].remove(word[index])\n",
    "                except KeyError:\n",
    "                        pass\n",
    "            elif letter == \"?\": #Remove the char\n",
    "                for vector in alphabets_list:\n",
    "                    try:\n",
    "                        vector.remove(word[index])\n",
    "                    except KeyError:\n",
    "                        pass\n",
    "        possible_words = match(alphabets_list, possible_words)"
   ]
  },
  {
   "cell_type": "code",
   "execution_count": null,
   "id": "3c611f33",
   "metadata": {},
   "outputs": [],
   "source": [
    "## uncomment and run the following line.\n",
    "\n",
    "#solve_wordle()"
   ]
  }
 ],
 "metadata": {
  "kernelspec": {
   "display_name": "Python 3",
   "language": "python",
   "name": "python3"
  },
  "language_info": {
   "codemirror_mode": {
    "name": "ipython",
    "version": 3
   },
   "file_extension": ".py",
   "mimetype": "text/x-python",
   "name": "python",
   "nbconvert_exporter": "python",
   "pygments_lexer": "ipython3",
   "version": "3.8.10"
  }
 },
 "nbformat": 4,
 "nbformat_minor": 5
}
